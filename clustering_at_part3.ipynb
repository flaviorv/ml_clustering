{
  "nbformat": 4,
  "nbformat_minor": 0,
  "metadata": {
    "colab": {
      "provenance": [],
      "authorship_tag": "ABX9TyNMzj+EOj1fxX55WR9GmQEk",
      "include_colab_link": true
    },
    "kernelspec": {
      "name": "python3",
      "display_name": "Python 3"
    },
    "language_info": {
      "name": "python"
    }
  },
  "cells": [
    {
      "cell_type": "markdown",
      "metadata": {
        "id": "view-in-github",
        "colab_type": "text"
      },
      "source": [
        "<a href=\"https://colab.research.google.com/github/flaviorv/ml_clustering/blob/main/clustering_at_part3.ipynb\" target=\"_parent\"><img src=\"https://colab.research.google.com/assets/colab-badge.svg\" alt=\"Open In Colab\"/></a>"
      ]
    },
    {
      "cell_type": "markdown",
      "source": [
        "###Imports"
      ],
      "metadata": {
        "id": "pOBd_w_1265h"
      }
    },
    {
      "cell_type": "code",
      "source": [
        "import numpy as np\n",
        "from sklearn.cluster import KMeans, AgglomerativeClustering, DBSCAN\n",
        "from sklearn.metrics import normalized_mutual_info_score"
      ],
      "metadata": {
        "id": "a83w5FtM3Ail"
      },
      "execution_count": 1,
      "outputs": []
    },
    {
      "cell_type": "markdown",
      "source": [
        "###Identifying faces of Olivetti Faces dataset with K-Means, DBSCAN and Agglomerative Clustering"
      ],
      "metadata": {
        "id": "isUprCW12mPT"
      }
    },
    {
      "cell_type": "code",
      "execution_count": 4,
      "metadata": {
        "colab": {
          "base_uri": "https://localhost:8080/"
        },
        "id": "kpeQ-_st1Kdg",
        "outputId": "54bb2d2f-2cd3-4a3d-b1f4-cfcd5ceeae82"
      },
      "outputs": [
        {
          "output_type": "stream",
          "name": "stdout",
          "text": [
            "DBSCAN\n",
            "NMI 0.75\n",
            "PARAMS eps: 6 min_samples: 2\n",
            "\n",
            "K-Means\n",
            "NMI 0.77\n",
            "N CLUSTERS 40\n",
            "\n",
            "Agglomerative Clustering\n",
            "NMI 0.81\n",
            "N CLUSTERS 40\n"
          ]
        }
      ],
      "source": [
        "# Loading dataset\n",
        "try:\n",
        "  target = np.load('olivetti_faces_target.npy')\n",
        "except:\n",
        "  !wget {'https://github.com/flaviorv/ml_clustering/raw/refs/heads/main/datasets/olivetti_faces_target.npy'}\n",
        "  target = np.load('olivetti_faces_target.npy')\n",
        "\n",
        "try:\n",
        "  faces = np.load('olivetti_faces.npy')\n",
        "except:\n",
        "  !wget {'https://github.com/flaviorv/ml_clustering/raw/refs/heads/main/datasets/olivetti_faces.npy'}\n",
        "  faces = np.load('olivetti_faces.npy')\n",
        "\n",
        "# 3d matrix to 2d\n",
        "n_samples, h, w = faces.shape\n",
        "faces_reshaped = faces.reshape(n_samples, h * w)\n",
        "\n",
        "# Hyperparams\n",
        "eps = [5.5, 6, 6.5, 7]\n",
        "min_samples = [2, 3, 4, 5]\n",
        "\n",
        "# Saving results\n",
        "best_nmi = {'dbscan': 0, 'kmeans': 0, 'agglomerative': 0}\n",
        "best_params = {'dbscan': None, 'kmeans': None, 'agglomerative': None}\n",
        "\n",
        "# Getting the best DBSCAN model\n",
        "for e in eps:\n",
        "  for ms in min_samples:\n",
        "    dbscan = DBSCAN(eps=e, min_samples=ms)\n",
        "    y_pred = dbscan.fit_predict(faces_reshaped)\n",
        "    nmi = normalized_mutual_info_score(target, y_pred)\n",
        "    if nmi > best_nmi['dbscan']:\n",
        "      best_nmi['dbscan'] = nmi\n",
        "      best_params['dbscan'] = f'eps: {e} min_samples: {ms}'\n",
        "# DBSCAN results\n",
        "print(f'DBSCAN\\nNMI {best_nmi[\"dbscan\"]:.2f}\\nPARAMS {best_params[\"dbscan\"]}')\n",
        "\n",
        "# K-Means results\n",
        "kmeans = KMeans(n_clusters=40, random_state=42, algorithm='elkan')\n",
        "kmeans_labels = kmeans.fit_predict(faces_reshaped)\n",
        "print(f'\\nK-Means\\nNMI {normalized_mutual_info_score(target, kmeans_labels):.2f}\\nN CLUSTERS 40')\n",
        "\n",
        "# Agglomerative Clustering results\n",
        "ac = AgglomerativeClustering(n_clusters=40, linkage='ward')\n",
        "ac.fit(faces_reshaped)\n",
        "ac_labels = ac.labels_\n",
        "print(f'\\nAgglomerative Clustering\\nNMI {normalized_mutual_info_score(target, ac_labels):.2f}\\nN CLUSTERS 40')"
      ]
    }
  ]
}